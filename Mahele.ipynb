{
 "cells": [
  {
   "cell_type": "code",
   "execution_count": 2,
   "metadata": {},
   "outputs": [],
   "source": [
    "import arcpy\n",
    "import os"
   ]
  },
  {
   "cell_type": "code",
   "execution_count": 3,
   "metadata": {},
   "outputs": [],
   "source": [
    "aprx = arcpy.mp.ArcGISProject(\"CURRENT\")\n",
    "projectName=os.path.dirname(aprx.filePath).split(\"\\\\\")[-1]\n",
    "arcpy.env.workspace = r\"F:\\Kauai_Data\""
   ]
  },
  {
   "cell_type": "code",
   "execution_count": 4,
   "metadata": {},
   "outputs": [],
   "source": [
    "ahu = \"\\Mahele\\Ahupuaa.shp\"\n",
    "plan = \"\\Mahele\\Dev_Plan_Areas_Kauai.shp\"\n",
    "elect = \"\\Mahele\\Election_Precincts.shp\"\n",
    "comm = \"\\Mahele\\Community.shp\" \n",
    "\n",
    "file_name = \"Buildings_XA.shp\"\n",
    "base = \"\\Base\\\\\" + file_name #create a file with no fields and copy it To_R\n",
    "output = \"\\To_R\\\\\" + file_name\n",
    "input_features = [\"\\Hale\\Final_Files\\Buildings_XA.shp\"]"
   ]
  },
  {
   "cell_type": "code",
   "execution_count": 5,
   "metadata": {},
   "outputs": [
    {
     "name": "stdout",
     "output_type": "stream",
     "text": [
      "\\To_R\\Buildings_XA.shp\n"
     ]
    }
   ],
   "source": [
    "\n",
    "# NOTE: Some VEG and buildings fall outside of plan and ahu, need to add manually\n",
    "\n",
    "for fc in input_features:  \n",
    "    temp_feature = arcpy.CreateScratchName(base, data_type=\"FeatureClass\", workspace=arcpy.env.workspace)\n",
    "    arcpy.analysis.SpatialJoin(fc, ahu, temp_feature, \"JOIN_ONE_TO_ONE\",\"KEEP_ALL\",None,\"LARGEST_OVERLAP\")\n",
    "    temp_feature1 = arcpy.CreateScratchName(base, data_type=\"FeatureClass\", workspace=arcpy.env.workspace)\n",
    "    arcpy.analysis.SpatialJoin(temp_feature, plan, temp_feature1,  \"JOIN_ONE_TO_ONE\",\"KEEP_ALL\",None,\"LARGEST_OVERLAP\")\n",
    "    temp_feature2 = arcpy.CreateScratchName(base, data_type=\"FeatureClass\", workspace=arcpy.env.workspace)\n",
    "    arcpy.analysis.SpatialJoin(temp_feature1, elect, temp_feature2, \"JOIN_ONE_TO_ONE\",\"KEEP_ALL\",None,\"LARGEST_OVERLAP\")\n",
    "    temp_feature3 = arcpy.CreateScratchName(base, data_type=\"FeatureClass\", workspace=arcpy.env.workspace)\n",
    "    arcpy.analysis.SpatialJoin(temp_feature2, comm, temp_feature3, \"JOIN_ONE_TO_ONE\",\"KEEP_ALL\",None,\"LARGEST_OVERLAP\")\n",
    "    arcpy.management.JoinField(output, \"FID\", temp_feature3, \"FID\", None, \"NOT_USE_FM\", None)\n",
    "    arcpy.Delete_management(temp_feature) \n",
    "    arcpy.Delete_management(temp_feature1) \n",
    "    arcpy.Delete_management(temp_feature2) \n",
    "    arcpy.Delete_management(temp_feature3) \n",
    "    print(output)"
   ]
  }
 ],
 "metadata": {
  "kernelspec": {
   "display_name": "ArcGISPro",
   "language": "Python",
   "name": "python3"
  },
  "language_info": {
   "file_extension": ".py",
   "name": "python",
   "version": "3"
  }
 },
 "nbformat": 4,
 "nbformat_minor": 2
}
