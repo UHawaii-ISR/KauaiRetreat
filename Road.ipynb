{
 "cells": [
  {
   "cell_type": "code",
   "execution_count": 1,
   "metadata": {},
   "outputs": [],
   "source": [
    "import arcpy\n",
    "import os"
   ]
  },
  {
   "cell_type": "code",
   "execution_count": 2,
   "metadata": {},
   "outputs": [],
   "source": [
    "aprx = arcpy.mp.ArcGISProject(\"CURRENT\")\n",
    "projectName=os.path.dirname(aprx.filePath).split(\"\\\\\")[-1]\n",
    "arcpy.env.workspace = r\"F:\\Kauai_Data\""
   ]
  },
  {
   "cell_type": "code",
   "execution_count": 4,
   "metadata": {},
   "outputs": [],
   "source": [
    "# Non buffered roads, without VEG or shorelinestructures\n",
    "\n",
    "input_features = [\"\\Hazards\\\\CE05.shp\",\"\\Hazards\\\\CE11.shp\",\"\\Hazards\\\\CE20.shp\",\"\\Hazards\\\\CE32.shp\",\n",
    "                 \"\\Hazards\\\\PF05.shp\",\"\\Hazards\\\\PF11.shp\",\"\\Hazards\\\\PF20.shp\",\"\\Hazards\\\\PF32.shp\",\n",
    "                 \"\\Hazards\\\\WF05.shp\",\"\\Hazards\\\\WF11.shp\",\"\\Hazards\\\\WF20.shp\",\"\\Hazards\\\\WF32.shp\",\n",
    "                 \"\\Hazards\\\\XA05.shp\",\"\\Hazards\\\\XA11.shp\",\"\\Hazards\\\\XA20.shp\"]\n",
    "road = \"\\Alanui\\\\Road_XA32.shp\"\n",
    "base = \"\\To_R\\Road_Base.shp\""
   ]
  },
  {
   "cell_type": "code",
   "execution_count": 5,
   "metadata": {},
   "outputs": [
    {
     "name": "stdout",
     "output_type": "stream",
     "text": [
      "\\Alanui\\Final_Files\\Road_CE05.shp\n",
      "\\Alanui\\Final_Files\\Road_CE11.shp\n",
      "\\Alanui\\Final_Files\\Road_CE20.shp\n",
      "\\Alanui\\Final_Files\\Road_CE32.shp\n",
      "\\Alanui\\Final_Files\\Road_PF05.shp\n",
      "\\Alanui\\Final_Files\\Road_PF11.shp\n",
      "\\Alanui\\Final_Files\\Road_PF20.shp\n",
      "\\Alanui\\Final_Files\\Road_PF32.shp\n",
      "\\Alanui\\Final_Files\\Road_WF05.shp\n",
      "\\Alanui\\Final_Files\\Road_WF11.shp\n",
      "\\Alanui\\Final_Files\\Road_WF20.shp\n",
      "\\Alanui\\Final_Files\\Road_WF32.shp\n",
      "\\Alanui\\Final_Files\\Road_XA05.shp\n",
      "\\Alanui\\Final_Files\\Road_XA11.shp\n",
      "\\Alanui\\Final_Files\\Road_XA20.shp\n"
     ]
    }
   ],
   "source": [
    "for fc in input_features:\n",
    "    # clip road by CE\n",
    "    output = \"\\Alanui\\\\Final_Files\\\\Road_\" + fc[9:-4] + \".shp\"\n",
    "    arcpy.analysis.Clip(road, fc, output, None)\n",
    "    \n",
    "    # calculate length of impacted road \n",
    "    area_field = \"Ln_m\" + \" LENGTH\" \n",
    "    arcpy.management.CalculateGeometryAttributes(output, area_field, \"METERS\", '', None, \"SAME_AS_INPUT\")\n",
    "    \n",
    "    # spatially join with CE 32\n",
    "    temp_feature = arcpy.CreateScratchName(road, data_type=\"FeatureClass\", workspace=arcpy.env.workspace)\n",
    "    arcpy.analysis.SpatialJoin(output, base, temp_feature)\n",
    "    arcpy.DeleteField_management(temp_feature, [\"id\",\"devplan_\",\"devplan_id\",\"district\",\"LittrlCell\",\"Community\",\"ahupuaa\",\"moku\",\"dp\",\"ballottype\"], \"KEEP_FIELDS\")\n",
    "    arcpy.management.JoinField(output, \"FID\", temp_feature, \"FID\", None, \"NOT_USE_FM\", None)\n",
    "    arcpy.Delete_management(temp_feature)   \n",
    "   \n",
    "    print(output)"
   ]
  },
  {
   "cell_type": "code",
   "execution_count": 18,
   "metadata": {},
   "outputs": [],
   "source": [
    "# Non buffered roads, without VEG or shorelinestructures\n",
    "# wasnt working so did XA32 and XA32b manually\n",
    "\n",
    "input_features = [\"\\Hazards\\\\XA32.shp\"]\n",
    "road = \"\\Alanui\\\\Road_XA32.shp\"\n",
    "base = \"\\To_R\\Road_Base.shp\""
   ]
  },
  {
   "cell_type": "code",
   "execution_count": 19,
   "metadata": {},
   "outputs": [
    {
     "name": "stdout",
     "output_type": "stream",
     "text": [
      "\\Alanui\\Final_Files\\Road_XA32.shp\n"
     ]
    }
   ],
   "source": [
    "for fc in input_features:\n",
    "    output = \"\\Alanui\\\\Final_Files\\\\Road_\" + fc[9:-4] + \".shp\"\n",
    "  # calculate length of impacted road \n",
    "    area_field = \"Ln_m\" + \" LENGTH\" \n",
    "    arcpy.management.CalculateGeometryAttributes(road, area_field, \"METERS\", '', None, \"SAME_AS_INPUT\")\n",
    "    \n",
    "    # spatially join with CE 32\n",
    "    temp_feature = arcpy.CreateScratchName(road, data_type=\"FeatureClass\", workspace=arcpy.env.workspace)\n",
    "    arcpy.analysis.SpatialJoin(output, base, temp_feature)\n",
    "    arcpy.DeleteField_management(temp_feature, [\"id\",\"devplan_\",\"devplan_id\",\"district\",\"LittrlCell\",\"Community\",\"ahupuaa\",\"moku\",\"dp\",\"ballottype\"], \"KEEP_FIELDS\")\n",
    "    arcpy.management.JoinField(output, \"FID\", temp_feature, \"FID\", None, \"NOT_USE_FM\", None)\n",
    "    arcpy.Delete_management(temp_feature)   \n",
    "   \n",
    "    print(output)"
   ]
  },
  {
   "cell_type": "code",
   "execution_count": 10,
   "metadata": {},
   "outputs": [],
   "source": [
    "# Buffered roads, without VEG or shorelinestructures\n",
    "\n",
    "input_features = [\"\\Hazards\\\\CE05b.shp\",\"\\Hazards\\\\CE11b.shp\",\"\\Hazards\\\\CE20b.shp\",\"\\Hazards\\\\CE32b.shp\",\n",
    "                 \"\\Hazards\\\\PF05b.shp\",\"\\Hazards\\\\PF11b.shp\",\"\\Hazards\\\\PF20b.shp\",\"\\Hazards\\\\PF32b.shp\",\n",
    "                 \"\\Hazards\\\\WF05b.shp\",\"\\Hazards\\\\WF11b.shp\",\"\\Hazards\\\\WF20b.shp\",\"\\Hazards\\\\WF32b.shp\",\n",
    "                 \"\\Hazards\\\\XA05b.shp\",\"\\Hazards\\\\XA11b.shp\",\"\\Hazards\\\\XA20b.shp\"]\n",
    "road = \"\\Alanui\\\\Road_XA32b.shp\"\n",
    "base = \"\\To_R\\Road_Base.shp\""
   ]
  },
  {
   "cell_type": "code",
   "execution_count": 11,
   "metadata": {},
   "outputs": [
    {
     "name": "stdout",
     "output_type": "stream",
     "text": [
      "\\Alanui\\Final_Files\\Road_CE05b.shp\n",
      "\\Alanui\\Final_Files\\Road_CE11b.shp\n",
      "\\Alanui\\Final_Files\\Road_CE20b.shp\n",
      "\\Alanui\\Final_Files\\Road_CE32b.shp\n",
      "\\Alanui\\Final_Files\\Road_PF05b.shp\n",
      "\\Alanui\\Final_Files\\Road_PF11b.shp\n",
      "\\Alanui\\Final_Files\\Road_PF20b.shp\n",
      "\\Alanui\\Final_Files\\Road_PF32b.shp\n",
      "\\Alanui\\Final_Files\\Road_WF05b.shp\n",
      "\\Alanui\\Final_Files\\Road_WF11b.shp\n",
      "\\Alanui\\Final_Files\\Road_WF20b.shp\n",
      "\\Alanui\\Final_Files\\Road_WF32b.shp\n",
      "\\Alanui\\Final_Files\\Road_XA05b.shp\n",
      "\\Alanui\\Final_Files\\Road_XA11b.shp\n",
      "\\Alanui\\Final_Files\\Road_XA20b.shp\n"
     ]
    }
   ],
   "source": [
    "for fc in input_features:\n",
    "    # clip road by CE\n",
    "    output = \"\\Alanui\\\\Final_Files\\\\Road_\" + fc[9:-4] + \".shp\"\n",
    "    arcpy.analysis.Clip(road, fc, output, None)\n",
    "    \n",
    "    # calculate length of impacted road \n",
    "    area_field = \"Ln_m\" + \" LENGTH\" \n",
    "    arcpy.management.CalculateGeometryAttributes(output, area_field, \"METERS\", '', None, \"SAME_AS_INPUT\")\n",
    "    \n",
    "    # spatially join with CE 32\n",
    "    temp_feature = arcpy.CreateScratchName(road, data_type=\"FeatureClass\", workspace=arcpy.env.workspace)\n",
    "    arcpy.analysis.SpatialJoin(output, base, temp_feature)\n",
    "    arcpy.DeleteField_management(temp_feature, [\"id\",\"devplan_\",\"devplan_id\",\"district\",\"LittrlCell\",\"Community\",\"ahupuaa\",\"moku\",\"dp\",\"ballottype\"], \"KEEP_FIELDS\")\n",
    "    arcpy.management.JoinField(output, \"FID\", temp_feature, \"FID\", None, \"NOT_USE_FM\", None)\n",
    "    arcpy.Delete_management(temp_feature)   \n",
    "   \n",
    "    print(output)"
   ]
  },
  {
   "cell_type": "code",
   "execution_count": 20,
   "metadata": {},
   "outputs": [],
   "source": [
    "# Buffered roads, without VEG or shorelinestructures\n",
    "\n",
    "input_features = [\"\\Hazards\\\\XA32b.shp\"]\n",
    "output = \"\\Alanui\\\\Final_Files\\\\Road_XA32b.shp\"\n",
    "road = \"\\Alanui\\\\Road_XA32b.shp\"\n",
    "base = \"\\To_R\\Road_Base.shp\""
   ]
  },
  {
   "cell_type": "code",
   "execution_count": 21,
   "metadata": {},
   "outputs": [
    {
     "name": "stdout",
     "output_type": "stream",
     "text": [
      "\\Alanui\\Final_Files\\Road_XA32b.shp\n"
     ]
    }
   ],
   "source": [
    "for fc in input_features:\n",
    "    # calculate length of impacted road \n",
    "    area_field = \"Ln_m\" + \" LENGTH\" \n",
    "    arcpy.management.CalculateGeometryAttributes(road, area_field, \"METERS\", '', None, \"SAME_AS_INPUT\")\n",
    "    \n",
    "    # spatially join with CE 32\n",
    "    temp_feature = arcpy.CreateScratchName(road, data_type=\"FeatureClass\", workspace=arcpy.env.workspace)\n",
    "    arcpy.analysis.SpatialJoin(output, base, temp_feature)\n",
    "    arcpy.DeleteField_management(temp_feature, [\"id\",\"devplan_\",\"devplan_id\",\"district\",\"LittrlCell\",\"Community\",\"ahupuaa\",\"moku\",\"dp\",\"ballottype\"], \"KEEP_FIELDS\")\n",
    "    arcpy.management.JoinField(output, \"FID\", temp_feature, \"FID\", None, \"NOT_USE_FM\", None)\n",
    "    arcpy.Delete_management(temp_feature)   \n",
    "   \n",
    "    print(output)"
   ]
  }
 ],
 "metadata": {
  "kernelspec": {
   "display_name": "ArcGISPro",
   "language": "Python",
   "name": "python3"
  },
  "language_info": {
   "file_extension": ".py",
   "name": "python",
   "version": "3"
  }
 },
 "nbformat": 4,
 "nbformat_minor": 2
}
