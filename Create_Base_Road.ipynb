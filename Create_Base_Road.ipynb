{
 "cells": [
  {
   "cell_type": "code",
   "execution_count": 1,
   "metadata": {},
   "outputs": [],
   "source": [
    "import arcpy\n",
    "import os"
   ]
  },
  {
   "cell_type": "code",
   "execution_count": null,
   "metadata": {},
   "outputs": [],
   "source": [
    "aprx = arcpy.mp.ArcGISProject(\"CURRENT\")\n",
    "projectName=os.path.dirname(aprx.filePath).split(\"\\\\\")[-1]\n",
    "arcpy.env.workspace = r\"F:\\Kauai_Data\""
   ]
  },
  {
   "cell_type": "code",
   "execution_count": null,
   "metadata": {},
   "outputs": [],
   "source": [
    "input_features= [\"\\Alanui\\\\Road_Centerlines_XA32b.shp\"]\n"
   ]
  },
  {
   "cell_type": "code",
   "execution_count": null,
   "metadata": {},
   "outputs": [],
   "source": [
    "for fc in input_features:\n",
    "    output = \"\\Alanui\\\\Road_Base.shp\"\n",
    "    temp_feature1 = arcpy.CreateScratchName(fc, data_type=\"FeatureClass\", workspace=arcpy.env.workspace)    \n",
    "    arcpy.analysis.Buffer(temp_feature, temp_feature1, \"2 Meters\", \"FULL\", \"ROUND\", \"NONE\", None, \"PLANAR\")\n",
    "    temp_feature2 = arcpy.CreateScratchName(temp_feature1, data_type=\"FeatureClass\", workspace=arcpy.env.workspace)\n",
    "    arcpy.gapro.DissolveBoundaries(temp_feature1, temp_feature2, \"SINGLE_PART\", None, None, None)\n",
    "    arcpy.management.CalculateField(temp_feature2, \"id\", \"!FID!\", \"PYTHON3\", '', \"TEXT\", \"NO_ENFORCE_DOMAINS\")\n",
    "    temp_feature3 = arcpy.CreateScratchName(temp_feature2, data_type=\"FeatureClass\", workspace=arcpy.env.workspace)\n",
    "    arcpy.analysis.SpatialJoin(temp_feature, temp_feature2, temp_feature3)\n",
    "    arcpy.management.Dissolve(temp_feature3, output, \"id\", None, \"MULTI_PART\", \"DISSOLVE_LINES\", '')\n",
    "    arcpy.Delete_management(temp_feature1)\n",
    "    arcpy.Delete_management(temp_feature2)\n",
    "    arcpy.Delete_management(temp_feature3)\n",
    "    print(output)"
   ]
  }
 ],
 "metadata": {
  "kernelspec": {
   "display_name": "ArcGISPro",
   "language": "Python",
   "name": "python3"
  },
  "language_info": {
   "file_extension": ".py",
   "name": "python",
   "version": "3"
  }
 },
 "nbformat": 4,
 "nbformat_minor": 2
}
