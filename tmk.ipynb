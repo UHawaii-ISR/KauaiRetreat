{
 "cells": [
  {
   "cell_type": "code",
   "execution_count": 10,
   "metadata": {},
   "outputs": [],
   "source": [
    "import arcpy\n",
    "import os"
   ]
  },
  {
   "cell_type": "code",
   "execution_count": 11,
   "metadata": {},
   "outputs": [],
   "source": [
    "aprx = arcpy.mp.ArcGISProject(\"CURRENT\")\n",
    "projectName=os.path.dirname(aprx.filePath).split(\"\\\\\")[-1]\n",
    "arcpy.env.workspace = r\"F:\\Kauai_Data\""
   ]
  },
  {
   "cell_type": "markdown",
   "metadata": {},
   "source": [
    "# Clipping TMK with buffered veg line"
   ]
  },
  {
   "cell_type": "code",
   "execution_count": 12,
   "metadata": {},
   "outputs": [],
   "source": [
    "# Clip tmk with shoreline file (buffered makai vegetation line); delete makai clip\n",
    "tmk = \"\\To_R\\TMKrealigned_SS.shp\"\n",
    "shoreline_clip = \"\\Kahakai\\\\Kauai_VEG_2021_buff_Left.shp\" # this was created with buffer tool and veg line"
   ]
  },
  {
   "cell_type": "code",
   "execution_count": 13,
   "metadata": {},
   "outputs": [
    {
     "data": {
      "text/html": [
       "<div class='gpresult'><h2>Messages</h2><div id='messages' data-messages='[\"Start Time: Tuesday, May 14, 2024 10:03:43 PM\",\"Reading Features...\",\"Cracking Features...\",\"Assembling Features...\",\"Succeeded at Tuesday, May 14, 2024 10:03:50 PM (Elapsed Time: 6.63 seconds)\"]' data-show='true'><div id = 'default' /></div></div>"
      ],
      "text/plain": [
       "<Result 'F:\\\\Kauai_Data\\\\\\\\Hale\\\\Final_Files\\\\tmk_XA.shp'>"
      ]
     },
     "execution_count": 13,
     "metadata": {},
     "output_type": "execute_result"
    }
   ],
   "source": [
    "arcpy.analysis.Erase(tmk, shoreline_clip, \"\\Hale\\\\Final_Files\\\\tmk_XA.shp\")\n"
   ]
  },
  {
   "cell_type": "markdown",
   "metadata": {},
   "source": [
    "# Calculate Area of Original, CE, WF"
   ]
  },
  {
   "cell_type": "code",
   "execution_count": 14,
   "metadata": {},
   "outputs": [],
   "source": [
    "tmk_clip =\"\\Hale\\\\Final_Files\\\\tmk_XA.shp\""
   ]
  },
  {
   "cell_type": "code",
   "execution_count": 15,
   "metadata": {},
   "outputs": [
    {
     "data": {
      "text/html": [
       "<div class='gpresult'><h2>Messages</h2><div id='messages' data-messages='[\"Start Time: Tuesday, May 14, 2024 10:07:04 PM\",\"Succeeded at Tuesday, May 14, 2024 10:07:23 PM (Elapsed Time: 19.09 seconds)\"]' data-show='true'><div id = 'default' /></div></div>"
      ],
      "text/plain": [
       "<Result 'F:\\\\Kauai_Data\\\\\\\\Hale\\\\Final_Files\\\\tmk_XA.shp'>"
      ]
     },
     "execution_count": 15,
     "metadata": {},
     "output_type": "execute_result"
    }
   ],
   "source": [
    "# Calculate new \"original\" area\n",
    "area_field = \"area_og AREA_GEODESIC\" #field name for new area calculated\n",
    "arcpy.management.CalculateGeometryAttributes(tmk_clip, area_field, '', \"SQUARE_METERS\", None, \"SAME_AS_INPUT\")"
   ]
  },
  {
   "cell_type": "code",
   "execution_count": 16,
   "metadata": {},
   "outputs": [],
   "source": [
    "# Clip and caluclate area of CE and WF for each SLR scenario\n",
    "input_features = [\"\\Hazards\\\\CE05.shp\",\"\\Hazards\\\\CE11.shp\",\"\\Hazards\\\\CE20.shp\",\"\\Hazards\\\\CE32.shp\",\n",
    "                 \"\\Hazards\\\\WF05.shp\",\"\\Hazards\\\\WF11.shp\",\"\\Hazards\\\\WF20.shp\",\"\\Hazards\\\\WF32.shp\",\n",
    "                 \"\\Hazards\\\\PF05.shp\",\"\\Hazards\\\\PF11.shp\",\"\\Hazards\\\\PF20.shp\",\"\\Hazards\\\\PF32.shp\",\n",
    "                 \"\\Hazards\\\\XA05.shp\",\"\\Hazards\\\\XA11.shp\",\"\\Hazards\\\\XA20.shp\",\"\\Hazards\\\\XA32.shp\"]"
   ]
  },
  {
   "cell_type": "code",
   "execution_count": 17,
   "metadata": {},
   "outputs": [
    {
     "name": "stdout",
     "output_type": "stream",
     "text": [
      "\\Hazards\\CE05.shp\n",
      "\\Hazards\\CE11.shp\n",
      "\\Hazards\\CE20.shp\n",
      "\\Hazards\\CE32.shp\n",
      "\\Hazards\\WF05.shp\n",
      "\\Hazards\\WF11.shp\n",
      "\\Hazards\\WF20.shp\n",
      "\\Hazards\\WF32.shp\n",
      "\\Hazards\\PF05.shp\n",
      "\\Hazards\\PF11.shp\n",
      "\\Hazards\\PF20.shp\n",
      "\\Hazards\\PF32.shp\n",
      "\\Hazards\\XA05.shp\n",
      "\\Hazards\\XA11.shp\n",
      "\\Hazards\\XA20.shp\n",
      "\\Hazards\\XA32.shp\n"
     ]
    }
   ],
   "source": [
    "for fc in input_features:\n",
    "    temp_feature = arcpy.CreateScratchName(fc, data_type=\"FeatureClass\", workspace=arcpy.env.workspace)\n",
    "    arcpy.analysis.Clip(tmk_clip, fc, temp_feature , None)\n",
    "    area_field = \"SA_\" + fc[-8:-4] + \" AREA_GEODESIC\" #field name for new area calculated\n",
    "    arcpy.management.CalculateGeometryAttributes(temp_feature, area_field, '', \"SQUARE_METERS\", None, \"SAME_AS_INPUT\")\n",
    "    arcpy.DeleteField_management(temp_feature, [\"PARTXT\", \"SA_\"+ fc[-8:-4]], \"KEEP_FIELDS\")\n",
    "    field_name = \"SA_\" + fc[-8:-4] #field name to keep in join\n",
    "    arcpy.management.JoinField(tmk_clip, \"PARTXT\", temp_feature, \"PARTXT\", field_name, \"NOT_USE_FM\", None)\n",
    "    arcpy.Delete_management(temp_feature)\n",
    "    print(fc)"
   ]
  }
 ],
 "metadata": {
  "kernelspec": {
   "display_name": "ArcGISPro",
   "language": "Python",
   "name": "python3"
  },
  "language_info": {
   "file_extension": ".py",
   "name": "python",
   "version": "3"
  }
 },
 "nbformat": 4,
 "nbformat_minor": 2
}
