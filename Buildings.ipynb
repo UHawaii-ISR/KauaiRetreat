{
 "cells": [
  {
   "cell_type": "code",
   "execution_count": 6,
   "metadata": {},
   "outputs": [],
   "source": [
    "import arcpy\n",
    "import os"
   ]
  },
  {
   "cell_type": "code",
   "execution_count": 7,
   "metadata": {},
   "outputs": [],
   "source": [
    "aprx = arcpy.mp.ArcGISProject(\"CURRENT\")\n",
    "projectName=os.path.dirname(aprx.filePath).split(\"\\\\\")[-1]\n",
    "arcpy.env.workspace = r\"F:\\Kauai_Data\""
   ]
  },
  {
   "cell_type": "code",
   "execution_count": 2,
   "metadata": {},
   "outputs": [
    {
     "name": "stdout",
     "output_type": "stream",
     "text": [
      "NEAR__new\n"
     ]
    }
   ],
   "source": [
    "x = \"\\Kahakai\\\\Kauai_Veg_2021_new.shp\"\n",
    "y = \"NEAR_\" + x[-8:-4]\n",
    "print(y)"
   ]
  },
  {
   "cell_type": "code",
   "execution_count": 8,
   "metadata": {},
   "outputs": [],
   "source": [
    "# Files\n",
    "buildings = \"\\To_R\\Buildings_XA.shp\"\n",
    "input_features = [\"\\Kahakai\\\\Kauai_Veg_2021_new.shp\" #need to change file name so it is NEAR_VEG,\"\\Hazards\\\\CE05.shp\",\"\\Hazards\\\\CE11.shp\",\"\\Hazards\\\\CE20.shp\",\"\\Hazards\\\\CE32.shp\",\n",
    "                 \"\\Hazards\\\\PF05.shp\",\"\\Hazards\\\\PF11.shp\",\"\\Hazards\\\\PF20.shp\",\"\\Hazards\\\\PF32.shp\",\n",
    "                 \"\\Hazards\\\\WF05.shp\",\"\\Hazards\\\\WF11.shp\",\"\\Hazards\\\\WF20.shp\",\"\\Hazards\\\\WF32.shp\",\n",
    "                 \"\\Hazards\\\\XA05.shp\",\"\\Hazards\\\\XA11.shp\",\"\\Hazards\\\\XA20.shp\",\"\\Hazards\\\\XA32.shp\"]"
   ]
  },
  {
   "cell_type": "code",
   "execution_count": 9,
   "metadata": {},
   "outputs": [
    {
     "name": "stdout",
     "output_type": "stream",
     "text": [
      "\\Kahakai\\Kauai_Veg_2021_new.shp\n",
      "\\Hazards\\CE05.shp\n",
      "\\Hazards\\CE11.shp\n",
      "\\Hazards\\CE20.shp\n",
      "\\Hazards\\CE32.shp\n",
      "\\Hazards\\PF05.shp\n",
      "\\Hazards\\PF11.shp\n",
      "\\Hazards\\PF20.shp\n",
      "\\Hazards\\PF32.shp\n",
      "\\Hazards\\WF05.shp\n",
      "\\Hazards\\WF11.shp\n",
      "\\Hazards\\WF20.shp\n",
      "\\Hazards\\WF32.shp\n",
      "\\Hazards\\XA05.shp\n",
      "\\Hazards\\XA11.shp\n",
      "\\Hazards\\XA20.shp\n",
      "\\Hazards\\XA32.shp\n"
     ]
    }
   ],
   "source": [
    "# Calculate near distance for each hazard from building footprint\n",
    "for fc in input_features:\n",
    "    method = \"NEAR_DIST \" + \"NEAR_\" + fc[-8:-4]\n",
    "    arcpy.analysis.Near(buildings, fc, None, \"NO_LOCATION\",\"NO_ANGLE\", \"GEODESIC\", method)\n",
    "    print(fc)"
   ]
  }
 ],
 "metadata": {
  "kernelspec": {
   "display_name": "ArcGISPro",
   "language": "Python",
   "name": "python3"
  },
  "language_info": {
   "file_extension": ".py",
   "name": "python",
   "version": "3"
  }
 },
 "nbformat": 4,
 "nbformat_minor": 2
}
